{
 "cells": [
  {
   "cell_type": "markdown",
   "id": "e69c2348",
   "metadata": {},
   "source": [
    "This first cell includes all of Part 1 of indexing relevant info for the molecules of interest"
   ]
  },
  {
   "cell_type": "code",
   "execution_count": 2,
   "id": "59522ea8",
   "metadata": {},
   "outputs": [
    {
     "name": "stdout",
     "output_type": "stream",
     "text": [
      "Python: /opt/anaconda3/envs/myenv/bin/python\n",
      "{'O': [0.0, 0.0, 0.1173], 'H1': [0.0, 0.7572, -0.4692], 'H2': [0.0, -0.7572, -0.4692]} {'C1': [0.0, 1.397, 0.0], 'C2': [1.2098, 0.6985, 0.0], 'C3': [1.2098, -0.6985, 0.0], 'C4': [0.0, -1.397, 0.0], 'C5': [-1.2098, -0.6985, 0.0], 'C6': [-1.2098, 0.6985, 0.0], 'H1': [0.0, 2.481, 0.0], 'H2': [2.1486, 1.2405, 0.0], 'H3': [2.1486, -1.2405, 0.0], 'H4': [0.0, -2.481, 0.0], 'H5': [-2.1486, -1.2405, 0.0], 'H6': [-2.1486, 1.2405, 0.0]} {'H1': [0.0, 0.0, 0.0], 'H2': [0.0, 0.0, 0.7414]}\n"
     ]
    }
   ],
   "source": [
    "import sys\n",
    "print(\"Python:\", sys.executable)\n",
    "import numpy as np\n",
    "#all cartesian coordinates in Angstroms for H2O, C6H6, and H2\n",
    "molecule1 = {\"O\": [0.000000, 0.000000, 0.1173]\n",
    "            , \"H1\":[0.0000,\t0.7572,\t-0.4692],\"H2\":[\t0.0000,\t-0.7572, -0.4692]}\n",
    "molecule2 = {\n",
    "    \"C1\": [0.0000, 1.3970, 0.0000],\n",
    "    \"C2\": [1.2098, 0.6985, 0.0000],\n",
    "    \"C3\": [1.2098, -0.6985, 0.0000],\n",
    "    \"C4\": [0.0000, -1.3970, 0.0000],\n",
    "    \"C5\": [-1.2098, -0.6985, 0.0000],\n",
    "    \"C6\": [-1.2098, 0.6985, 0.0000],\n",
    "    \"H1\": [0.0000, 2.4810, 0.0000],\n",
    "    \"H2\": [2.1486, 1.2405, 0.0000],\n",
    "    \"H3\": [2.1486, -1.2405, 0.0000],\n",
    "    \"H4\": [0.0000, -2.4810, 0.0000],\n",
    "    \"H5\": [-2.1486, -1.2405, 0.0000],\n",
    "    \"H6\": [-2.1486, 1.2405, 0.0000]\n",
    "}\n",
    "molecule3 = {\"H1\": [0.0000, 0.0000, 0.0000],\n",
    "             \"H2\": [0.0000, 0.0000, 0.7414]}\n",
    "\n",
    "print(molecule1, molecule2, molecule3)\n"
   ]
  },
  {
   "cell_type": "markdown",
   "id": "a173a2e8",
   "metadata": {},
   "source": [
    "This next cell is for part 2, bond length calculation, but the result will not be printed in this section as this function will be used in the future loop to print all molecule bond lengths in cell 4."
   ]
  },
  {
   "cell_type": "code",
   "execution_count": 3,
   "id": "456fd550",
   "metadata": {},
   "outputs": [],
   "source": [
    "#condition for warning long bond length only once (otherwise will return for every combination of atoms in benzene)\n",
    "warned_long_bond = False\n",
    "def compute_bond_length(coord1, coord2,verbose=False):\n",
    "    #distance formula and bond length condition\n",
    "    global warned_long_bond\n",
    "    r1 = np.array(coord1, dtype=float)\n",
    "    r2 = np.array(coord2, dtype=float)\n",
    "    d = float(np.linalg.norm(r2 - r1))\n",
    "    if d > 1.5 and not warned_long_bond:\n",
    "        print(\"Warning: Bond length Too long! (>1.5 Angstroms)\")\n",
    "        warned_long_bond = True\n",
    "    if verbose:\n",
    "        print(f\"Bond length: {d:.2f} Angstroms\")\n",
    "\n",
    "    return d"
   ]
  },
  {
   "cell_type": "markdown",
   "id": "0ef66d14",
   "metadata": {},
   "source": [
    "This cell contains the function used to calculate the angle between 3 atoms and its output will be shown in cell 5 when it is looped over for all relevant atom combinations in our molecules of interest"
   ]
  },
  {
   "cell_type": "code",
   "execution_count": 4,
   "id": "c594e70c",
   "metadata": {},
   "outputs": [],
   "source": [
    "#computing bond angle with dot product calculation\n",
    "def compute_bond_angle(coord1, coord2, coord3, right_atol=1e-2):\n",
    "    r1=np.array(coord1,dtype=float)\n",
    "    r2=np.array(coord2,dtype=float)\n",
    "    r3=np.array(coord3,dtype=float)\n",
    "    v1=r1-r2\n",
    "    v2=r3-r2\n",
    "    cos_theta=np.dot(v1,v2)/(np.linalg.norm(v1)*np.linalg.norm(v2))\n",
    "    angle=np.arccos(cos_theta)\n",
    "    angle_deg=np.degrees(angle)\n",
    "    #classifying angle type for the calculated values\n",
    "    if angle_deg < 90- right_atol:\n",
    "        kind = \"acute\"\n",
    "    elif 90-right_atol<= angle_deg <=90+right_atol:\n",
    "        kind = \"right\"\n",
    "    else:\n",
    "        kind = \"obtuse\"\n",
    "    return angle_deg, kind"
   ]
  },
  {
   "cell_type": "markdown",
   "id": "6379bc02",
   "metadata": {},
   "source": [
    "This cell gives the loop setup for Task 4.1 of automating the calculation of unique bond lengths and the different cutoff values are selected to be close to the maximum real bond lengths observed in these molecules so it doesn't consider atom combinations that aren't actually connected. The output will include a warning for water's bond length for the calculation that excludes the H to H potential bond length, but future exclusions due to cutoff conditions will not be shown with warnings due to the number of warnings in molecules like benzene with many combinations of illegitimate bonds. "
   ]
  },
  {
   "cell_type": "code",
   "execution_count": 5,
   "id": "4fa1b7f3",
   "metadata": {},
   "outputs": [
    {
     "name": "stdout",
     "output_type": "stream",
     "text": [
      "Warning: Bond length Too long! (>1.5 Angstroms)\n",
      "\n",
      "H2O bond lengths (<= 1.100 Angstroms):\n",
      "O-H1: 0.96 Angstroms\n",
      "O-H2: 0.96 Angstroms\n",
      "\n",
      "C6H6 bond lengths (<= 1.500 Angstroms):\n",
      "C1-H1: 1.08 Angstroms\n",
      "C4-H4: 1.08 Angstroms\n",
      "C2-H2: 1.08 Angstroms\n",
      "C3-H3: 1.08 Angstroms\n",
      "C5-H5: 1.08 Angstroms\n",
      "C6-H6: 1.08 Angstroms\n",
      "C1-C2: 1.40 Angstroms\n",
      "C1-C6: 1.40 Angstroms\n",
      "C3-C4: 1.40 Angstroms\n",
      "C4-C5: 1.40 Angstroms\n",
      "C2-C3: 1.40 Angstroms\n",
      "C5-C6: 1.40 Angstroms\n",
      "\n",
      "H2 bond lengths (<= 1.050 Angstroms):\n",
      "H1-H2: 0.74 Angstroms\n"
     ]
    }
   ],
   "source": [
    "#all molecules in a dictionary for use in loop over all of them\n",
    "molecules= {\"H2O\": molecule1, \"C6H6\": molecule2, \"H2\": molecule3}\n",
    "#cutoff lengths that will allow displaying of only real bond length connections and calculation of angles of real bonds\n",
    "def cutoff_for(name):\n",
    "     if name==\"H2O\":\n",
    "          return 1.10\n",
    "     if name==\"C6H6\": \n",
    "          return 1.50\n",
    "     return 1.05\n",
    "def calculate_all_bond_lengths(molecule, mol_name):\n",
    "    max_pair_length=cutoff_for(mol_name)\n",
    "    names=list(molecule.keys())\n",
    "    results=[]\n",
    "    #loop over all pairs of atoms in a molecule with the condition so that only real bonds will be output\n",
    "    for i in range (len(names)):\n",
    "         for j in range(i+1, len(names)):\n",
    "              a1, a2= names[i], names[j]\n",
    "              d= compute_bond_length(molecule[a1], molecule[a2])\n",
    "              if d<= max_pair_length:\n",
    "                    results.append((a1, a2, d))\n",
    "    results.sort(key=lambda t: t[2])\n",
    "    return results\n",
    "#final list of all bond lengths for each named molecule\n",
    "for name, mol in molecules.items():\n",
    "     bonds= calculate_all_bond_lengths(mol, name)\n",
    "     print(f\"\\n{name} bond lengths (<= {cutoff_for(name):.3f} Angstroms):\")\n",
    "     for a1, a2, d in bonds:\n",
    "        print(f\"{a1}-{a2}: {d:.2f} Angstroms\")"
   ]
  },
  {
   "cell_type": "markdown",
   "id": "24c51c29",
   "metadata": {},
   "source": [
    "This cell shows the bond angles loop setup for the automation requested in Task 4.2, and will only print the bond angles of atoms that are connected in the actual molecule relying on the cutoffs made above. This will not include H2 because it depends on a function that must use 3 atoms to calculate the angle. "
   ]
  },
  {
   "cell_type": "code",
   "execution_count": 6,
   "id": "eee39157",
   "metadata": {},
   "outputs": [
    {
     "name": "stdout",
     "output_type": "stream",
     "text": [
      "\n",
      "H2O bond angles:\n",
      "H2-O-H1: 104.48 degrees (obtuse)\n",
      "\n",
      "C6H6 bond angles:\n",
      "C6-C1-C2: 120.00 degrees (obtuse)\n",
      "C5-C4-C3: 120.00 degrees (obtuse)\n",
      "H2-C2-C3: 120.00 degrees (obtuse)\n",
      "C2-C3-H3: 120.00 degrees (obtuse)\n",
      "C6-C5-H5: 120.00 degrees (obtuse)\n",
      "C5-C6-H6: 120.00 degrees (obtuse)\n",
      "H2-C2-C1: 120.00 degrees (obtuse)\n",
      "C4-C3-H3: 120.00 degrees (obtuse)\n",
      "H5-C5-C4: 120.00 degrees (obtuse)\n",
      "C1-C6-H6: 120.00 degrees (obtuse)\n",
      "H1-C1-C6: 120.00 degrees (obtuse)\n",
      "H1-C1-C2: 120.00 degrees (obtuse)\n",
      "C3-C2-C1: 120.00 degrees (obtuse)\n",
      "C2-C3-C4: 120.00 degrees (obtuse)\n",
      "H4-C4-C5: 120.00 degrees (obtuse)\n",
      "H4-C4-C3: 120.00 degrees (obtuse)\n",
      "C6-C5-C4: 120.00 degrees (obtuse)\n",
      "C5-C6-C1: 120.00 degrees (obtuse)\n",
      "\n",
      "H2 bond angles:\n"
     ]
    }
   ],
   "source": [
    "#calculating all bond angles using only the bonds of real connectivties in the molecules\n",
    "from itertools import combinations\n",
    "def calculate_all_bond_angles(molecule, mol_name):\n",
    "    bonds= calculate_all_bond_lengths(molecule, mol_name)\n",
    "    adj={name: set() for name in molecule.keys()}\n",
    "   #a1 and a2 are the atoms in a bond defined above, based on cutoff conditions, now combinations\n",
    "   #central atom B with neighbors A and C will be used to calculate real bond angles.\n",
    "    for a1, a2, _ in bonds:\n",
    "        adj[a1].add(a2)\n",
    "        adj[a2].add(a1)\n",
    "    angles=[]       \n",
    "    for B, nbrs in adj.items():\n",
    "        if len(nbrs) < 2:\n",
    "            continue\n",
    "        for A, C in combinations(nbrs, 2):\n",
    "            #this uses the bond angle function defined to perform the calculation\n",
    "            angle_deg, kind = compute_bond_angle(molecule[A], molecule[B], molecule[C])\n",
    "            angles.append((A, B, C, angle_deg, kind))\n",
    "    angles.sort(key=lambda t: t[3])\n",
    "    return angles\n",
    "#this will print lists of angle for each molecule based on the real bond angles calculated above\n",
    "for name, mol in molecules.items():\n",
    "    angles= calculate_all_bond_angles(mol, name)\n",
    "    print(f\"\\n{name} bond angles:\")\n",
    "    for A, B, C, angle_deg, kind in angles:\n",
    "        print(f\"{A}-{B}-{C}: {angle_deg:.2f} degrees ({kind})\")"
   ]
  }
 ],
 "metadata": {
  "kernelspec": {
   "display_name": "Python (myenv)",
   "language": "python",
   "name": "myenv"
  },
  "language_info": {
   "codemirror_mode": {
    "name": "ipython",
    "version": 3
   },
   "file_extension": ".py",
   "mimetype": "text/x-python",
   "name": "python",
   "nbconvert_exporter": "python",
   "pygments_lexer": "ipython3",
   "version": "3.11.13"
  }
 },
 "nbformat": 4,
 "nbformat_minor": 5
}
